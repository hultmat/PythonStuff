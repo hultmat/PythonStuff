{
 "cells": [
  {
   "cell_type": "code",
   "execution_count": 1,
   "metadata": {},
   "outputs": [
    {
     "name": "stdout",
     "output_type": "stream",
     "text": [
      "Vilken siffra tänker jag på mellan 0 och 100? 50\n",
      "Du gissa för högt.\n",
      "Vilken siffra tänker jag på mellan 0 och 100? 25\n",
      "Du gissa för högt.\n",
      "Vilken siffra tänker jag på mellan 0 och 100? 13\n",
      "Du gissa för lågt.\n",
      "Vilken siffra tänker jag på mellan 0 och 100? 20\n",
      "Du gissa för högt.\n",
      "Vilken siffra tänker jag på mellan 0 och 100? 17\n",
      "Du gissa för högt.\n",
      "Vilken siffra tänker jag på mellan 0 och 100? 15\n",
      "Du gissa för lågt.\n",
      "Vilken siffra tänker jag på mellan 0 och 100? 16\n",
      "du gissa rätt på 7 försöket\n"
     ]
    }
   ],
   "source": [
    "import random\n",
    "\n",
    "siffra =random.randint(0,99)\n",
    "count = 0\n",
    "gissning = 0\n",
    "\n",
    "while True:\n",
    "    gissning = int(input(\"Vilken siffra tänker jag på mellan 0 och 100? \"))\n",
    "    \n",
    "    if gissning == siffra:\n",
    "        count +=1\n",
    "        print(\"du gissa rätt på %s försöket\"% count)\n",
    "        break\n",
    "    \n",
    "    elif gissning < siffra:\n",
    "        print(\"Du gissa för lågt.\")\n",
    "        count+=1\n",
    "    \n",
    "    elif gissning > siffra:\n",
    "        print(\"Du gissa för högt.\")\n",
    "        count+=1\n",
    "    "
   ]
  },
  {
   "cell_type": "code",
   "execution_count": null,
   "metadata": {},
   "outputs": [],
   "source": []
  }
 ],
 "metadata": {
  "kernelspec": {
   "display_name": "Python 3 (ipykernel)",
   "language": "python",
   "name": "python3"
  },
  "language_info": {
   "codemirror_mode": {
    "name": "ipython",
    "version": 3
   },
   "file_extension": ".py",
   "mimetype": "text/x-python",
   "name": "python",
   "nbconvert_exporter": "python",
   "pygments_lexer": "ipython3",
   "version": "3.9.7"
  }
 },
 "nbformat": 4,
 "nbformat_minor": 2
}
