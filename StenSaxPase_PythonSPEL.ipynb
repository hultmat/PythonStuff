{
 "cells": [
  {
   "cell_type": "code",
   "execution_count": 4,
   "metadata": {},
   "outputs": [
    {
     "name": "stdout",
     "output_type": "stream",
     "text": [
      "Vad heter spelare1? asd\n",
      "Vad heter spelare2? asf\n",
      "asd,Vad väljer du Sten/Sax/Påse? ········\n",
      "asf,Vad väljer du Sten/Sax/Påse? ········\n",
      "någo fo vituiks..\n"
     ]
    },
    {
     "ename": "SystemExit",
     "evalue": "",
     "output_type": "error",
     "traceback": [
      "An exception has occurred, use %tb to see the full traceback.\n",
      "\u001b[0;31mSystemExit\u001b[0m\n"
     ]
    },
    {
     "name": "stderr",
     "output_type": "stream",
     "text": [
      "/Users/Matts/anaconda3/lib/python3.7/site-packages/IPython/core/interactiveshell.py:2969: UserWarning: To exit: use 'exit', 'quit', or Ctrl-D.\n",
      "  warn(\"To exit: use 'exit', 'quit', or Ctrl-D.\", stacklevel=1)\n"
     ]
    }
   ],
   "source": [
    "import sys\n",
    "import getpass\n",
    "\n",
    "namn1=input(\"Vad heter spelare1? \")\n",
    "namn2=input(\"Vad heter spelare2? \")\n",
    "\n",
    "UserInput1=getpass.getpass(\"%s,Vad väljer du Sten/Sax/Påse? \" % namn1)\n",
    "UserInput2=getpass.getpass(\"%s,Vad väljer du Sten/Sax/Påse? \" % namn2)\n",
    "\n",
    "\n",
    "def compare(u1,u2):\n",
    "    if UserInput1==exit:\n",
    "        sys.exit()\n",
    "    if u1==u2:\n",
    "        print(\"Jämnt spel gubbar!\")\n",
    "        pass\n",
    "    elif u1 == \"sten\":\n",
    "        if u2== \"sax\":\n",
    "            print(\"%s vinner!\"%namn1)\n",
    "        else: print(\"%s vinner!\"%namn2)\n",
    "            \n",
    "    \n",
    "    \n",
    "    elif u1 == \"påse\":\n",
    "        if u2== \"sax\":\n",
    "            print(\"%s vinner!\"%namn2)\n",
    "        else: print(\"%s vinner!\"%namn1)\n",
    "    \n",
    "    \n",
    "    elif u1 == \"sax\":\n",
    "        if u2== \"sten\":\n",
    "            print(\"%s vinner!\"%namn2)\n",
    "        else: print(\"%s vinner!\"%namn1)    \n",
    "    else: \n",
    "    #error\n",
    "        print(\"någo fo vituiks..\")\n",
    "        sys.exit()\n",
    "         \n",
    "    \n",
    "compare(UserInput1, UserInput2)\n"
   ]
  },
  {
   "cell_type": "code",
   "execution_count": null,
   "metadata": {},
   "outputs": [],
   "source": []
  },
  {
   "cell_type": "code",
   "execution_count": null,
   "metadata": {},
   "outputs": [],
   "source": []
  }
 ],
 "metadata": {
  "kernelspec": {
   "display_name": "Python 3",
   "language": "python",
   "name": "python3"
  },
  "language_info": {
   "codemirror_mode": {
    "name": "ipython",
    "version": 3
   },
   "file_extension": ".py",
   "mimetype": "text/x-python",
   "name": "python",
   "nbconvert_exporter": "python",
   "pygments_lexer": "ipython3",
   "version": "3.7.0"
  }
 },
 "nbformat": 4,
 "nbformat_minor": 2
}
