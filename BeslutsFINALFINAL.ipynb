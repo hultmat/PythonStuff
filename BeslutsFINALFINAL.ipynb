{
 "cells": [
  {
   "cell_type": "code",
   "execution_count": 560,
   "metadata": {},
   "outputs": [],
   "source": [
    "import pandas as pd\n",
    "import numpy as np\n",
    "from sklearn.linear_model import LinearRegression\n",
    "from sklearn.metrics import r2_score\n",
    "import datetime as dt\n",
    "import statistics\n",
    "import dateutil.parser"
   ]
  },
  {
   "cell_type": "code",
   "execution_count": 561,
   "metadata": {},
   "outputs": [
    {
     "data": {
      "text/html": [
       "<div>\n",
       "<style scoped>\n",
       "    .dataframe tbody tr th:only-of-type {\n",
       "        vertical-align: middle;\n",
       "    }\n",
       "\n",
       "    .dataframe tbody tr th {\n",
       "        vertical-align: top;\n",
       "    }\n",
       "\n",
       "    .dataframe thead th {\n",
       "        text-align: right;\n",
       "    }\n",
       "</style>\n",
       "<table border=\"1\" class=\"dataframe\">\n",
       "  <thead>\n",
       "    <tr style=\"text-align: right;\">\n",
       "      <th></th>\n",
       "      <th>Date</th>\n",
       "      <th>Timestamp</th>\n",
       "      <th>Open</th>\n",
       "      <th>High</th>\n",
       "      <th>Low</th>\n",
       "      <th>Close</th>\n",
       "      <th>Volume</th>\n",
       "    </tr>\n",
       "  </thead>\n",
       "  <tbody>\n",
       "    <tr>\n",
       "      <th>0</th>\n",
       "      <td>20100101</td>\n",
       "      <td>11:00:00</td>\n",
       "      <td>1.43327</td>\n",
       "      <td>1.43335</td>\n",
       "      <td>1.43319</td>\n",
       "      <td>1.43335</td>\n",
       "      <td>56.299999</td>\n",
       "    </tr>\n",
       "    <tr>\n",
       "      <th>1</th>\n",
       "      <td>20100101</td>\n",
       "      <td>11:01:00</td>\n",
       "      <td>1.43333</td>\n",
       "      <td>1.43333</td>\n",
       "      <td>1.43318</td>\n",
       "      <td>1.43327</td>\n",
       "      <td>82.100001</td>\n",
       "    </tr>\n",
       "    <tr>\n",
       "      <th>2</th>\n",
       "      <td>20100101</td>\n",
       "      <td>11:02:00</td>\n",
       "      <td>1.43328</td>\n",
       "      <td>1.43333</td>\n",
       "      <td>1.43319</td>\n",
       "      <td>1.43333</td>\n",
       "      <td>86.900000</td>\n",
       "    </tr>\n",
       "    <tr>\n",
       "      <th>3</th>\n",
       "      <td>20100101</td>\n",
       "      <td>11:03:00</td>\n",
       "      <td>1.43325</td>\n",
       "      <td>1.43333</td>\n",
       "      <td>1.43319</td>\n",
       "      <td>1.43326</td>\n",
       "      <td>68.899999</td>\n",
       "    </tr>\n",
       "    <tr>\n",
       "      <th>4</th>\n",
       "      <td>20100101</td>\n",
       "      <td>11:04:00</td>\n",
       "      <td>1.43326</td>\n",
       "      <td>1.43333</td>\n",
       "      <td>1.43319</td>\n",
       "      <td>1.43319</td>\n",
       "      <td>45.300000</td>\n",
       "    </tr>\n",
       "  </tbody>\n",
       "</table>\n",
       "</div>"
      ],
      "text/plain": [
       "       Date Timestamp     Open     High      Low    Close     Volume\n",
       "0  20100101  11:00:00  1.43327  1.43335  1.43319  1.43335  56.299999\n",
       "1  20100101  11:01:00  1.43333  1.43333  1.43318  1.43327  82.100001\n",
       "2  20100101  11:02:00  1.43328  1.43333  1.43319  1.43333  86.900000\n",
       "3  20100101  11:03:00  1.43325  1.43333  1.43319  1.43326  68.899999\n",
       "4  20100101  11:04:00  1.43326  1.43333  1.43319  1.43319  45.300000"
      ]
     },
     "execution_count": 561,
     "metadata": {},
     "output_type": "execute_result"
    }
   ],
   "source": [
    "firstdf = pd.read_csv('EURUSD1m.csv')\n",
    "\n",
    "firstdf.head()"
   ]
  },
  {
   "cell_type": "markdown",
   "metadata": {},
   "source": [
    "## Drop useless data/ correcting data"
   ]
  },
  {
   "cell_type": "code",
   "execution_count": 562,
   "metadata": {},
   "outputs": [
    {
     "data": {
      "text/html": [
       "<div>\n",
       "<style scoped>\n",
       "    .dataframe tbody tr th:only-of-type {\n",
       "        vertical-align: middle;\n",
       "    }\n",
       "\n",
       "    .dataframe tbody tr th {\n",
       "        vertical-align: top;\n",
       "    }\n",
       "\n",
       "    .dataframe thead th {\n",
       "        text-align: right;\n",
       "    }\n",
       "</style>\n",
       "<table border=\"1\" class=\"dataframe\">\n",
       "  <thead>\n",
       "    <tr style=\"text-align: right;\">\n",
       "      <th></th>\n",
       "      <th>open</th>\n",
       "      <th>high</th>\n",
       "      <th>low</th>\n",
       "      <th>close</th>\n",
       "    </tr>\n",
       "    <tr>\n",
       "      <th>date</th>\n",
       "      <th></th>\n",
       "      <th></th>\n",
       "      <th></th>\n",
       "      <th></th>\n",
       "    </tr>\n",
       "  </thead>\n",
       "  <tbody>\n",
       "    <tr>\n",
       "      <th>2019-12-22</th>\n",
       "      <td>1.10810</td>\n",
       "      <td>1.10813</td>\n",
       "      <td>1.10766</td>\n",
       "      <td>1.10802</td>\n",
       "    </tr>\n",
       "    <tr>\n",
       "      <th>2019-12-23</th>\n",
       "      <td>1.10798</td>\n",
       "      <td>1.10956</td>\n",
       "      <td>1.10701</td>\n",
       "      <td>1.10917</td>\n",
       "    </tr>\n",
       "    <tr>\n",
       "      <th>2019-12-24</th>\n",
       "      <td>1.10926</td>\n",
       "      <td>1.10938</td>\n",
       "      <td>1.10697</td>\n",
       "      <td>1.10873</td>\n",
       "    </tr>\n",
       "    <tr>\n",
       "      <th>2019-12-25</th>\n",
       "      <td>1.10874</td>\n",
       "      <td>1.10953</td>\n",
       "      <td>1.10734</td>\n",
       "      <td>1.10944</td>\n",
       "    </tr>\n",
       "    <tr>\n",
       "      <th>2019-12-26</th>\n",
       "      <td>1.10944</td>\n",
       "      <td>1.11088</td>\n",
       "      <td>1.10824</td>\n",
       "      <td>1.11012</td>\n",
       "    </tr>\n",
       "    <tr>\n",
       "      <th>2019-12-27</th>\n",
       "      <td>1.11004</td>\n",
       "      <td>1.11873</td>\n",
       "      <td>1.10992</td>\n",
       "      <td>1.11713</td>\n",
       "    </tr>\n",
       "    <tr>\n",
       "      <th>2019-12-28</th>\n",
       "      <td>1.11739</td>\n",
       "      <td>1.11838</td>\n",
       "      <td>1.11734</td>\n",
       "      <td>1.11813</td>\n",
       "    </tr>\n",
       "    <tr>\n",
       "      <th>2019-12-29</th>\n",
       "      <td>1.11739</td>\n",
       "      <td>1.11838</td>\n",
       "      <td>1.11734</td>\n",
       "      <td>1.11813</td>\n",
       "    </tr>\n",
       "    <tr>\n",
       "      <th>2019-12-30</th>\n",
       "      <td>1.11807</td>\n",
       "      <td>1.12200</td>\n",
       "      <td>1.11807</td>\n",
       "      <td>1.12013</td>\n",
       "    </tr>\n",
       "    <tr>\n",
       "      <th>2019-12-31</th>\n",
       "      <td>1.12014</td>\n",
       "      <td>1.12277</td>\n",
       "      <td>1.12003</td>\n",
       "      <td>1.12277</td>\n",
       "    </tr>\n",
       "  </tbody>\n",
       "</table>\n",
       "</div>"
      ],
      "text/plain": [
       "               open     high      low    close\n",
       "date                                          \n",
       "2019-12-22  1.10810  1.10813  1.10766  1.10802\n",
       "2019-12-23  1.10798  1.10956  1.10701  1.10917\n",
       "2019-12-24  1.10926  1.10938  1.10697  1.10873\n",
       "2019-12-25  1.10874  1.10953  1.10734  1.10944\n",
       "2019-12-26  1.10944  1.11088  1.10824  1.11012\n",
       "2019-12-27  1.11004  1.11873  1.10992  1.11713\n",
       "2019-12-28  1.11739  1.11838  1.11734  1.11813\n",
       "2019-12-29  1.11739  1.11838  1.11734  1.11813\n",
       "2019-12-30  1.11807  1.12200  1.11807  1.12013\n",
       "2019-12-31  1.12014  1.12277  1.12003  1.12277"
      ]
     },
     "execution_count": 562,
     "metadata": {},
     "output_type": "execute_result"
    }
   ],
   "source": [
    "firstdf.columns = map(str.lower, firstdf.columns)\n",
    "firstdf.index= firstdf[\"date\"]\n",
    "firstdf.index = pd.to_datetime(firstdf.index, format = \"%Y%m%d\")\n",
    "firstdf.drop([\"date\"], inplace=True, axis=1)\n",
    "firstdf = firstdf.astype({\"open\":float, \"high\":float, \"low\":float, \"close\":float})\n",
    "seconddf = firstdf['open'].resample('1D').ohlc().bfill()\n",
    "seconddf = firstdf['high'].resample('1D').ohlc().bfill()\n",
    "seconddf = firstdf['low'].resample('1D').ohlc().bfill()\n",
    "seconddf = firstdf['close'].resample('1D').ohlc().bfill()\n",
    "#firstdf = firstdf.dropna()\n",
    "seconddf.tail(10)"
   ]
  },
  {
   "cell_type": "markdown",
   "metadata": {},
   "source": [
    "# Features"
   ]
  },
  {
   "attachments": {
    "Screen%20Shot%202020-09-29%20at%2014.58.07.png": {
     "image/png": "[encoded data removed]"
    }
   },
   "cell_type": "markdown",
   "metadata": {},
   "source": [
    "### Momentum ![Screen%20Shot%202020-09-29%20at%2014.58.07.png](attachment:Screen%20Shot%202020-09-29%20at%2014.58.07.png)"
   ]
  },
  {
   "cell_type": "code",
   "execution_count": 563,
   "metadata": {},
   "outputs": [
    {
     "data": {
      "text/html": [
       "<div>\n",
       "<style scoped>\n",
       "    .dataframe tbody tr th:only-of-type {\n",
       "        vertical-align: middle;\n",
       "    }\n",
       "\n",
       "    .dataframe tbody tr th {\n",
       "        vertical-align: top;\n",
       "    }\n",
       "\n",
       "    .dataframe thead th {\n",
       "        text-align: right;\n",
       "    }\n",
       "</style>\n",
       "<table border=\"1\" class=\"dataframe\">\n",
       "  <thead>\n",
       "    <tr style=\"text-align: right;\">\n",
       "      <th></th>\n",
       "      <th>open</th>\n",
       "      <th>high</th>\n",
       "      <th>low</th>\n",
       "      <th>close</th>\n",
       "      <th>momentum</th>\n",
       "    </tr>\n",
       "    <tr>\n",
       "      <th>date</th>\n",
       "      <th></th>\n",
       "      <th></th>\n",
       "      <th></th>\n",
       "      <th></th>\n",
       "      <th></th>\n",
       "    </tr>\n",
       "  </thead>\n",
       "  <tbody>\n",
       "    <tr>\n",
       "      <th>2019-12-27</th>\n",
       "      <td>1.11004</td>\n",
       "      <td>1.11873</td>\n",
       "      <td>1.10992</td>\n",
       "      <td>1.11713</td>\n",
       "      <td>0.00796</td>\n",
       "    </tr>\n",
       "    <tr>\n",
       "      <th>2019-12-28</th>\n",
       "      <td>1.11739</td>\n",
       "      <td>1.11838</td>\n",
       "      <td>1.11734</td>\n",
       "      <td>1.11813</td>\n",
       "      <td>0.00940</td>\n",
       "    </tr>\n",
       "    <tr>\n",
       "      <th>2019-12-29</th>\n",
       "      <td>1.11739</td>\n",
       "      <td>1.11838</td>\n",
       "      <td>1.11734</td>\n",
       "      <td>1.11813</td>\n",
       "      <td>0.00869</td>\n",
       "    </tr>\n",
       "    <tr>\n",
       "      <th>2019-12-30</th>\n",
       "      <td>1.11807</td>\n",
       "      <td>1.12200</td>\n",
       "      <td>1.11807</td>\n",
       "      <td>1.12013</td>\n",
       "      <td>0.01001</td>\n",
       "    </tr>\n",
       "    <tr>\n",
       "      <th>2019-12-31</th>\n",
       "      <td>1.12014</td>\n",
       "      <td>1.12277</td>\n",
       "      <td>1.12003</td>\n",
       "      <td>1.12277</td>\n",
       "      <td>0.00564</td>\n",
       "    </tr>\n",
       "  </tbody>\n",
       "</table>\n",
       "</div>"
      ],
      "text/plain": [
       "               open     high      low    close  momentum\n",
       "date                                                    \n",
       "2019-12-27  1.11004  1.11873  1.10992  1.11713   0.00796\n",
       "2019-12-28  1.11739  1.11838  1.11734  1.11813   0.00940\n",
       "2019-12-29  1.11739  1.11838  1.11734  1.11813   0.00869\n",
       "2019-12-30  1.11807  1.12200  1.11807  1.12013   0.01001\n",
       "2019-12-31  1.12014  1.12277  1.12003  1.12277   0.00564"
      ]
     },
     "execution_count": 563,
     "metadata": {},
     "output_type": "execute_result"
    }
   ],
   "source": [
    "momentum = seconddf.close - seconddf.close.shift(4)\n",
    "seconddf[\"momentum\"] = momentum\n",
    "seconddf.tail()"
   ]
  },
  {
   "attachments": {
    "Screen%20Shot%202020-09-29%20at%2015.00.18.png": {
     "image/png": "[encoded data removed]"
    }
   },
   "cell_type": "markdown",
   "metadata": {},
   "source": [
    "### Stochastic %K  ![Screen%20Shot%202020-09-29%20at%2015.00.18.png](attachment:Screen%20Shot%202020-09-29%20at%2015.00.18.png)"
   ]
  },
  {
   "cell_type": "code",
   "execution_count": 564,
   "metadata": {},
   "outputs": [
    {
     "data": {
      "text/html": [
       "<div>\n",
       "<style scoped>\n",
       "    .dataframe tbody tr th:only-of-type {\n",
       "        vertical-align: middle;\n",
       "    }\n",
       "\n",
       "    .dataframe tbody tr th {\n",
       "        vertical-align: top;\n",
       "    }\n",
       "\n",
       "    .dataframe thead th {\n",
       "        text-align: right;\n",
       "    }\n",
       "</style>\n",
       "<table border=\"1\" class=\"dataframe\">\n",
       "  <thead>\n",
       "    <tr style=\"text-align: right;\">\n",
       "      <th></th>\n",
       "      <th>open</th>\n",
       "      <th>high</th>\n",
       "      <th>low</th>\n",
       "      <th>close</th>\n",
       "      <th>momentum</th>\n",
       "      <th>stochastic</th>\n",
       "    </tr>\n",
       "    <tr>\n",
       "      <th>date</th>\n",
       "      <th></th>\n",
       "      <th></th>\n",
       "      <th></th>\n",
       "      <th></th>\n",
       "      <th></th>\n",
       "      <th></th>\n",
       "    </tr>\n",
       "  </thead>\n",
       "  <tbody>\n",
       "    <tr>\n",
       "      <th>2019-12-27</th>\n",
       "      <td>1.11004</td>\n",
       "      <td>1.11873</td>\n",
       "      <td>1.10992</td>\n",
       "      <td>1.11713</td>\n",
       "      <td>0.00796</td>\n",
       "      <td>59.734880</td>\n",
       "    </tr>\n",
       "    <tr>\n",
       "      <th>2019-12-28</th>\n",
       "      <td>1.11739</td>\n",
       "      <td>1.11838</td>\n",
       "      <td>1.11734</td>\n",
       "      <td>1.11813</td>\n",
       "      <td>0.00940</td>\n",
       "      <td>6.545153</td>\n",
       "    </tr>\n",
       "    <tr>\n",
       "      <th>2019-12-29</th>\n",
       "      <td>1.11739</td>\n",
       "      <td>1.11838</td>\n",
       "      <td>1.11734</td>\n",
       "      <td>1.11813</td>\n",
       "      <td>0.00869</td>\n",
       "      <td>6.545153</td>\n",
       "    </tr>\n",
       "    <tr>\n",
       "      <th>2019-12-30</th>\n",
       "      <td>1.11807</td>\n",
       "      <td>1.12200</td>\n",
       "      <td>1.11807</td>\n",
       "      <td>1.12013</td>\n",
       "      <td>0.01001</td>\n",
       "      <td>13.705921</td>\n",
       "    </tr>\n",
       "    <tr>\n",
       "      <th>2019-12-31</th>\n",
       "      <td>1.12014</td>\n",
       "      <td>1.12277</td>\n",
       "      <td>1.12003</td>\n",
       "      <td>1.12277</td>\n",
       "      <td>0.00564</td>\n",
       "      <td>17.341772</td>\n",
       "    </tr>\n",
       "  </tbody>\n",
       "</table>\n",
       "</div>"
      ],
      "text/plain": [
       "               open     high      low    close  momentum  stochastic\n",
       "date                                                                \n",
       "2019-12-27  1.11004  1.11873  1.10992  1.11713   0.00796   59.734880\n",
       "2019-12-28  1.11739  1.11838  1.11734  1.11813   0.00940    6.545153\n",
       "2019-12-29  1.11739  1.11838  1.11734  1.11813   0.00869    6.545153\n",
       "2019-12-30  1.11807  1.12200  1.11807  1.12013   0.01001   13.705921\n",
       "2019-12-31  1.12014  1.12277  1.12003  1.12277   0.00564   17.341772"
      ]
     },
     "execution_count": 564,
     "metadata": {},
     "output_type": "execute_result"
    }
   ],
   "source": [
    "Stochastic = ((seconddf.close - seconddf.low)/((seconddf.high.rolling(window=10).max()) - (seconddf.low.rolling(window=10).min())))*100\n",
    "seconddf[\"stochastic\"] = Stochastic\n",
    "seconddf.tail()"
   ]
  },
  {
   "cell_type": "markdown",
   "metadata": {},
   "source": [
    "## Normalizing data"
   ]
  },
  {
   "cell_type": "code",
   "execution_count": 565,
   "metadata": {},
   "outputs": [],
   "source": [
    "def normalizeDf(df):\n",
    "    \n",
    "    normalizedDf = pd.seconddf()\n",
    "    \n",
    "    for column in seconddf:\n",
    "        normalizedDf[column] = normalizeColumn(seconddf, column)\n",
    "               \n",
    "    return normalizedDf.set_index(seconddf.index)"
   ]
  },
  {
   "cell_type": "code",
   "execution_count": 566,
   "metadata": {},
   "outputs": [
    {
     "data": {
      "text/html": [
       "<div>\n",
       "<style scoped>\n",
       "    .dataframe tbody tr th:only-of-type {\n",
       "        vertical-align: middle;\n",
       "    }\n",
       "\n",
       "    .dataframe tbody tr th {\n",
       "        vertical-align: top;\n",
       "    }\n",
       "\n",
       "    .dataframe thead th {\n",
       "        text-align: right;\n",
       "    }\n",
       "</style>\n",
       "<table border=\"1\" class=\"dataframe\">\n",
       "  <thead>\n",
       "    <tr style=\"text-align: right;\">\n",
       "      <th></th>\n",
       "      <th>open</th>\n",
       "      <th>high</th>\n",
       "      <th>low</th>\n",
       "      <th>close</th>\n",
       "      <th>momentum</th>\n",
       "      <th>stochastic</th>\n",
       "    </tr>\n",
       "    <tr>\n",
       "      <th>date</th>\n",
       "      <th></th>\n",
       "      <th></th>\n",
       "      <th></th>\n",
       "      <th></th>\n",
       "      <th></th>\n",
       "      <th></th>\n",
       "    </tr>\n",
       "  </thead>\n",
       "  <tbody>\n",
       "    <tr>\n",
       "      <th>2019-12-27</th>\n",
       "      <td>1.11004</td>\n",
       "      <td>1.11873</td>\n",
       "      <td>1.10992</td>\n",
       "      <td>1.11713</td>\n",
       "      <td>0.00796</td>\n",
       "      <td>59.734880</td>\n",
       "    </tr>\n",
       "    <tr>\n",
       "      <th>2019-12-28</th>\n",
       "      <td>1.11739</td>\n",
       "      <td>1.11838</td>\n",
       "      <td>1.11734</td>\n",
       "      <td>1.11813</td>\n",
       "      <td>0.00940</td>\n",
       "      <td>6.545153</td>\n",
       "    </tr>\n",
       "    <tr>\n",
       "      <th>2019-12-29</th>\n",
       "      <td>1.11739</td>\n",
       "      <td>1.11838</td>\n",
       "      <td>1.11734</td>\n",
       "      <td>1.11813</td>\n",
       "      <td>0.00869</td>\n",
       "      <td>6.545153</td>\n",
       "    </tr>\n",
       "    <tr>\n",
       "      <th>2019-12-30</th>\n",
       "      <td>1.11807</td>\n",
       "      <td>1.12200</td>\n",
       "      <td>1.11807</td>\n",
       "      <td>1.12013</td>\n",
       "      <td>0.01001</td>\n",
       "      <td>13.705921</td>\n",
       "    </tr>\n",
       "    <tr>\n",
       "      <th>2019-12-31</th>\n",
       "      <td>1.12014</td>\n",
       "      <td>1.12277</td>\n",
       "      <td>1.12003</td>\n",
       "      <td>1.12277</td>\n",
       "      <td>0.00564</td>\n",
       "      <td>17.341772</td>\n",
       "    </tr>\n",
       "  </tbody>\n",
       "</table>\n",
       "</div>"
      ],
      "text/plain": [
       "               open     high      low    close  momentum  stochastic\n",
       "date                                                                \n",
       "2019-12-27  1.11004  1.11873  1.10992  1.11713   0.00796   59.734880\n",
       "2019-12-28  1.11739  1.11838  1.11734  1.11813   0.00940    6.545153\n",
       "2019-12-29  1.11739  1.11838  1.11734  1.11813   0.00869    6.545153\n",
       "2019-12-30  1.11807  1.12200  1.11807  1.12013   0.01001   13.705921\n",
       "2019-12-31  1.12014  1.12277  1.12003  1.12277   0.00564   17.341772"
      ]
     },
     "execution_count": 566,
     "metadata": {},
     "output_type": "execute_result"
    }
   ],
   "source": [
    "seconddf.tail()"
   ]
  },
  {
   "cell_type": "markdown",
   "metadata": {},
   "source": [
    "### Create a label for your forecast, by shifting the close value n steps"
   ]
  },
  {
   "cell_type": "code",
   "execution_count": 567,
   "metadata": {},
   "outputs": [
    {
     "data": {
      "text/html": [
       "<div>\n",
       "<style scoped>\n",
       "    .dataframe tbody tr th:only-of-type {\n",
       "        vertical-align: middle;\n",
       "    }\n",
       "\n",
       "    .dataframe tbody tr th {\n",
       "        vertical-align: top;\n",
       "    }\n",
       "\n",
       "    .dataframe thead th {\n",
       "        text-align: right;\n",
       "    }\n",
       "</style>\n",
       "<table border=\"1\" class=\"dataframe\">\n",
       "  <thead>\n",
       "    <tr style=\"text-align: right;\">\n",
       "      <th></th>\n",
       "      <th>open</th>\n",
       "      <th>forecast</th>\n",
       "      <th>high</th>\n",
       "      <th>low</th>\n",
       "      <th>close</th>\n",
       "      <th>momentum</th>\n",
       "      <th>stochastic</th>\n",
       "    </tr>\n",
       "    <tr>\n",
       "      <th>date</th>\n",
       "      <th></th>\n",
       "      <th></th>\n",
       "      <th></th>\n",
       "      <th></th>\n",
       "      <th></th>\n",
       "      <th></th>\n",
       "      <th></th>\n",
       "    </tr>\n",
       "  </thead>\n",
       "  <tbody>\n",
       "    <tr>\n",
       "      <th>2019-12-27</th>\n",
       "      <td>1.11004</td>\n",
       "      <td>1.12277</td>\n",
       "      <td>1.11873</td>\n",
       "      <td>1.10992</td>\n",
       "      <td>1.11713</td>\n",
       "      <td>0.00796</td>\n",
       "      <td>59.734880</td>\n",
       "    </tr>\n",
       "    <tr>\n",
       "      <th>2019-12-28</th>\n",
       "      <td>1.11739</td>\n",
       "      <td>NaN</td>\n",
       "      <td>1.11838</td>\n",
       "      <td>1.11734</td>\n",
       "      <td>1.11813</td>\n",
       "      <td>0.00940</td>\n",
       "      <td>6.545153</td>\n",
       "    </tr>\n",
       "    <tr>\n",
       "      <th>2019-12-29</th>\n",
       "      <td>1.11739</td>\n",
       "      <td>NaN</td>\n",
       "      <td>1.11838</td>\n",
       "      <td>1.11734</td>\n",
       "      <td>1.11813</td>\n",
       "      <td>0.00869</td>\n",
       "      <td>6.545153</td>\n",
       "    </tr>\n",
       "    <tr>\n",
       "      <th>2019-12-30</th>\n",
       "      <td>1.11807</td>\n",
       "      <td>NaN</td>\n",
       "      <td>1.12200</td>\n",
       "      <td>1.11807</td>\n",
       "      <td>1.12013</td>\n",
       "      <td>0.01001</td>\n",
       "      <td>13.705921</td>\n",
       "    </tr>\n",
       "    <tr>\n",
       "      <th>2019-12-31</th>\n",
       "      <td>1.12014</td>\n",
       "      <td>NaN</td>\n",
       "      <td>1.12277</td>\n",
       "      <td>1.12003</td>\n",
       "      <td>1.12277</td>\n",
       "      <td>0.00564</td>\n",
       "      <td>17.341772</td>\n",
       "    </tr>\n",
       "  </tbody>\n",
       "</table>\n",
       "</div>"
      ],
      "text/plain": [
       "               open  forecast     high      low    close  momentum  stochastic\n",
       "date                                                                          \n",
       "2019-12-27  1.11004   1.12277  1.11873  1.10992  1.11713   0.00796   59.734880\n",
       "2019-12-28  1.11739       NaN  1.11838  1.11734  1.11813   0.00940    6.545153\n",
       "2019-12-29  1.11739       NaN  1.11838  1.11734  1.11813   0.00869    6.545153\n",
       "2019-12-30  1.11807       NaN  1.12200  1.11807  1.12013   0.01001   13.705921\n",
       "2019-12-31  1.12014       NaN  1.12277  1.12003  1.12277   0.00564   17.341772"
      ]
     },
     "execution_count": 567,
     "metadata": {},
     "output_type": "execute_result"
    }
   ],
   "source": [
    "seconddf.insert(1, \"forecast\", (seconddf[\"close\"].shift(-4)))\n",
    "seconddf.tail()"
   ]
  },
  {
   "cell_type": "markdown",
   "metadata": {},
   "source": [
    "### Dropping data again"
   ]
  },
  {
   "cell_type": "code",
   "execution_count": 568,
   "metadata": {},
   "outputs": [
    {
     "data": {
      "text/html": [
       "<div>\n",
       "<style scoped>\n",
       "    .dataframe tbody tr th:only-of-type {\n",
       "        vertical-align: middle;\n",
       "    }\n",
       "\n",
       "    .dataframe tbody tr th {\n",
       "        vertical-align: top;\n",
       "    }\n",
       "\n",
       "    .dataframe thead th {\n",
       "        text-align: right;\n",
       "    }\n",
       "</style>\n",
       "<table border=\"1\" class=\"dataframe\">\n",
       "  <thead>\n",
       "    <tr style=\"text-align: right;\">\n",
       "      <th></th>\n",
       "      <th>forecast</th>\n",
       "      <th>close</th>\n",
       "      <th>momentum</th>\n",
       "      <th>stochastic</th>\n",
       "    </tr>\n",
       "    <tr>\n",
       "      <th>date</th>\n",
       "      <th></th>\n",
       "      <th></th>\n",
       "      <th></th>\n",
       "      <th></th>\n",
       "    </tr>\n",
       "  </thead>\n",
       "  <tbody>\n",
       "    <tr>\n",
       "      <th>2019-12-27</th>\n",
       "      <td>1.12277</td>\n",
       "      <td>1.11713</td>\n",
       "      <td>0.00796</td>\n",
       "      <td>59.734880</td>\n",
       "    </tr>\n",
       "    <tr>\n",
       "      <th>2019-12-28</th>\n",
       "      <td>NaN</td>\n",
       "      <td>1.11813</td>\n",
       "      <td>0.00940</td>\n",
       "      <td>6.545153</td>\n",
       "    </tr>\n",
       "    <tr>\n",
       "      <th>2019-12-29</th>\n",
       "      <td>NaN</td>\n",
       "      <td>1.11813</td>\n",
       "      <td>0.00869</td>\n",
       "      <td>6.545153</td>\n",
       "    </tr>\n",
       "    <tr>\n",
       "      <th>2019-12-30</th>\n",
       "      <td>NaN</td>\n",
       "      <td>1.12013</td>\n",
       "      <td>0.01001</td>\n",
       "      <td>13.705921</td>\n",
       "    </tr>\n",
       "    <tr>\n",
       "      <th>2019-12-31</th>\n",
       "      <td>NaN</td>\n",
       "      <td>1.12277</td>\n",
       "      <td>0.00564</td>\n",
       "      <td>17.341772</td>\n",
       "    </tr>\n",
       "  </tbody>\n",
       "</table>\n",
       "</div>"
      ],
      "text/plain": [
       "            forecast    close  momentum  stochastic\n",
       "date                                               \n",
       "2019-12-27   1.12277  1.11713   0.00796   59.734880\n",
       "2019-12-28       NaN  1.11813   0.00940    6.545153\n",
       "2019-12-29       NaN  1.11813   0.00869    6.545153\n",
       "2019-12-30       NaN  1.12013   0.01001   13.705921\n",
       "2019-12-31       NaN  1.12277   0.00564   17.341772"
      ]
     },
     "execution_count": 568,
     "metadata": {},
     "output_type": "execute_result"
    }
   ],
   "source": [
    "seconddf.drop([\"open\",\"high\",\"low\"], inplace=True, axis=1)\n",
    "seconddf.tail()"
   ]
  },
  {
   "cell_type": "code",
   "execution_count": 569,
   "metadata": {},
   "outputs": [
    {
     "data": {
      "text/html": [
       "<div>\n",
       "<style scoped>\n",
       "    .dataframe tbody tr th:only-of-type {\n",
       "        vertical-align: middle;\n",
       "    }\n",
       "\n",
       "    .dataframe tbody tr th {\n",
       "        vertical-align: top;\n",
       "    }\n",
       "\n",
       "    .dataframe thead th {\n",
       "        text-align: right;\n",
       "    }\n",
       "</style>\n",
       "<table border=\"1\" class=\"dataframe\">\n",
       "  <thead>\n",
       "    <tr style=\"text-align: right;\">\n",
       "      <th></th>\n",
       "      <th>forecast</th>\n",
       "      <th>close</th>\n",
       "      <th>momentum</th>\n",
       "      <th>stochastic</th>\n",
       "    </tr>\n",
       "    <tr>\n",
       "      <th>date</th>\n",
       "      <th></th>\n",
       "      <th></th>\n",
       "      <th></th>\n",
       "      <th></th>\n",
       "    </tr>\n",
       "  </thead>\n",
       "  <tbody>\n",
       "    <tr>\n",
       "      <th>2019-12-27</th>\n",
       "      <td>1.12277</td>\n",
       "      <td>1.11713</td>\n",
       "      <td>0.00796</td>\n",
       "      <td>59.734880</td>\n",
       "    </tr>\n",
       "    <tr>\n",
       "      <th>2019-12-28</th>\n",
       "      <td>NaN</td>\n",
       "      <td>1.11813</td>\n",
       "      <td>0.00940</td>\n",
       "      <td>6.545153</td>\n",
       "    </tr>\n",
       "    <tr>\n",
       "      <th>2019-12-29</th>\n",
       "      <td>NaN</td>\n",
       "      <td>1.11813</td>\n",
       "      <td>0.00869</td>\n",
       "      <td>6.545153</td>\n",
       "    </tr>\n",
       "    <tr>\n",
       "      <th>2019-12-30</th>\n",
       "      <td>NaN</td>\n",
       "      <td>1.12013</td>\n",
       "      <td>0.01001</td>\n",
       "      <td>13.705921</td>\n",
       "    </tr>\n",
       "    <tr>\n",
       "      <th>2019-12-31</th>\n",
       "      <td>NaN</td>\n",
       "      <td>1.12277</td>\n",
       "      <td>0.00564</td>\n",
       "      <td>17.341772</td>\n",
       "    </tr>\n",
       "  </tbody>\n",
       "</table>\n",
       "</div>"
      ],
      "text/plain": [
       "            forecast    close  momentum  stochastic\n",
       "date                                               \n",
       "2019-12-27   1.12277  1.11713   0.00796   59.734880\n",
       "2019-12-28       NaN  1.11813   0.00940    6.545153\n",
       "2019-12-29       NaN  1.11813   0.00869    6.545153\n",
       "2019-12-30       NaN  1.12013   0.01001   13.705921\n",
       "2019-12-31       NaN  1.12277   0.00564   17.341772"
      ]
     },
     "execution_count": 569,
     "metadata": {},
     "output_type": "execute_result"
    }
   ],
   "source": [
    "seconddf.tail()"
   ]
  },
  {
   "cell_type": "markdown",
   "metadata": {},
   "source": [
    "## Training data"
   ]
  },
  {
   "cell_type": "markdown",
   "metadata": {},
   "source": [
    "#### (Dropping NaN content)"
   ]
  },
  {
   "cell_type": "code",
   "execution_count": 570,
   "metadata": {},
   "outputs": [],
   "source": [
    "seconddf = seconddf.dropna()"
   ]
  },
  {
   "cell_type": "code",
   "execution_count": 571,
   "metadata": {},
   "outputs": [
    {
     "name": "stdout",
     "output_type": "stream",
     "text": [
      "Train rows: 2911 Test rows: 728\n",
      "Total rows: 3639\n"
     ]
    }
   ],
   "source": [
    "#We split the data 0.8/0.2\n",
    "n = seconddf.shape[0]\n",
    "train_size = 0.8\n",
    "train_df = seconddf.iloc[:int(n * train_size)]\n",
    "test_df = seconddf.iloc[int(n * train_size):]\n",
    "\n",
    "print(\"Train rows:\", len(train_df),\"Test rows:\", len(test_df))\n",
    "print(\"Total rows:\", len(seconddf))"
   ]
  },
  {
   "cell_type": "markdown",
   "metadata": {},
   "source": [
    "#### Continuing my mission"
   ]
  },
  {
   "cell_type": "code",
   "execution_count": 572,
   "metadata": {},
   "outputs": [],
   "source": [
    "#svr = SVR()\n",
    "#rf = RandomForestRegressor()\n",
    "lr = LinearRegression()\n",
    "\n",
    "y_train = np.array(train_df['forecast'])\n",
    "x_train = np.array(train_df[['close', 'momentum', 'stochastic']])\n",
    "\n",
    "lr.fit(x_train, y_train)\n",
    "\n",
    "y_test = np.array(test_df['forecast'])\n",
    "x_test = np.array(test_df[['close', 'momentum', 'stochastic']])"
   ]
  },
  {
   "cell_type": "markdown",
   "metadata": {},
   "source": [
    "### If i did this right this is the accuracy of my forecast"
   ]
  },
  {
   "cell_type": "code",
   "execution_count": 573,
   "metadata": {},
   "outputs": [
    {
     "name": "stdout",
     "output_type": "stream",
     "text": [
      "0.9688988659518245\n"
     ]
    }
   ],
   "source": [
    "print(lr.score(x_test, y_test))"
   ]
  },
  {
   "cell_type": "markdown",
   "metadata": {},
   "source": [
    "### Calculate the RSME error"
   ]
  },
  {
   "cell_type": "code",
   "execution_count": 574,
   "metadata": {},
   "outputs": [
    {
     "name": "stdout",
     "output_type": "stream",
     "text": [
      "the RSME error for traindata: 0.9561700446581914\n"
     ]
    }
   ],
   "source": [
    "print(\"the RSME error for traindata:\",np.sqrt((train_df['close'] - train_df['forecast']) ** 2).mean()*100)"
   ]
  },
  {
   "cell_type": "code",
   "execution_count": 575,
   "metadata": {},
   "outputs": [
    {
     "name": "stdout",
     "output_type": "stream",
     "text": [
      "the RSME error for testdata: 0.5736236263736267\n"
     ]
    }
   ],
   "source": [
    "print(\"the RSME error for testdata:\",np.sqrt((test_df['close'] - test_df['forecast']) ** 2).mean()*100)"
   ]
  },
  {
   "cell_type": "markdown",
   "metadata": {},
   "source": [
    "### Calculate R^2 error"
   ]
  },
  {
   "cell_type": "code",
   "execution_count": 576,
   "metadata": {},
   "outputs": [
    {
     "name": "stdout",
     "output_type": "stream",
     "text": [
      "r2 score for train is 0.9879123912470714\n"
     ]
    }
   ],
   "source": [
    "r2 = r2_score(train_df['close'], train_df['forecast']) \n",
    "print('r2 score for train is', r2) "
   ]
  },
  {
   "cell_type": "code",
   "execution_count": 577,
   "metadata": {},
   "outputs": [
    {
     "name": "stdout",
     "output_type": "stream",
     "text": [
      "r2 score for test is 0.9690178544514596\n"
     ]
    }
   ],
   "source": [
    "r2 = r2_score(test_df['close'], test_df['forecast']) \n",
    "print('r2 score for test is', r2) "
   ]
  },
  {
   "cell_type": "markdown",
   "metadata": {},
   "source": [
    "This means that 96,90% of the values are accounted for. If it would be 1.00 there would not be any mistakes in the prediction."
   ]
  },
  {
   "cell_type": "markdown",
   "metadata": {},
   "source": [
    "### Calculate thw MASE error"
   ]
  },
  {
   "cell_type": "code",
   "execution_count": 578,
   "metadata": {},
   "outputs": [
    {
     "name": "stdout",
     "output_type": "stream",
     "text": [
      "mase for test:  2.232643822435559\n",
      "mase for train:  2.2740128457906885\n"
     ]
    }
   ],
   "source": [
    "print('mase for test: ', np.mean(np.abs(test_df['close'] - test_df['forecast']))/np.mean(np.abs(np.diff(test_df['close']))))\n",
    "print('mase for train: ', np.mean(np.abs(train_df['close'] - train_df['forecast']))/np.mean(np.abs(np.diff(train_df['close']))))\n"
   ]
  },
  {
   "cell_type": "markdown",
   "metadata": {},
   "source": [
    "### Calculate MAPE error"
   ]
  },
  {
   "cell_type": "code",
   "execution_count": 579,
   "metadata": {},
   "outputs": [
    {
     "name": "stdout",
     "output_type": "stream",
     "text": [
      "MAPE on train 0.7654697482864209\n"
     ]
    }
   ],
   "source": [
    "print(\"MAPE on train\", np.mean(np.abs((train_df['forecast'] - train_df['close']) / train_df['forecast'])*100))"
   ]
  },
  {
   "cell_type": "code",
   "execution_count": 580,
   "metadata": {},
   "outputs": [
    {
     "name": "stdout",
     "output_type": "stream",
     "text": [
      "MAPE on test 0.49615368350132605\n"
     ]
    }
   ],
   "source": [
    "print(\"MAPE on test\", np.mean(np.abs((test_df['forecast'] - test_df['close']) / test_df['forecast'])*100))"
   ]
  },
  {
   "cell_type": "code",
   "execution_count": null,
   "metadata": {},
   "outputs": [],
   "source": []
  }
 ],
 "metadata": {
  "kernelspec": {
   "display_name": "Python 3",
   "language": "python",
   "name": "python3"
  },
  "language_info": {
   "codemirror_mode": {
    "name": "ipython",
    "version": 3
   },
   "file_extension": ".py",
   "mimetype": "text/x-python",
   "name": "python",
   "nbconvert_exporter": "python",
   "pygments_lexer": "ipython3",
   "version": "3.8.3"
  }
 },
 "nbformat": 4,
 "nbformat_minor": 4
}
