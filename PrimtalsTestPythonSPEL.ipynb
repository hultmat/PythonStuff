{
 "cells": [
  {
   "cell_type": "code",
   "execution_count": 1,
   "metadata": {},
   "outputs": [
    {
     "name": "stdout",
     "output_type": "stream",
     "text": [
      "Ge ett nummer: 234\n",
      "234 är inte ett primtal.\n",
      "Tog 0.00019598007202148438 sekunder att lista ut.\n"
     ]
    }
   ],
   "source": [
    "import time\n",
    "num = int (input(\"Ge ett nummer: \"))\n",
    "start = time.time()\n",
    "\n",
    "if num > 1:\n",
    "    for i in range(2,num):\n",
    "        if (num % i) == 0:\n",
    "            print(num,\"är inte ett primtal.\\nTog\", time.time() - start, \"sekunder att lista ut.\")\n",
    "            break\n",
    "    else:\n",
    "        print(num,\"är ett primtal.\\nTog\", time.time() - start, \"sekunder att lista ut.\")"
   ]
  }
 ],
 "metadata": {
  "kernelspec": {
   "display_name": "Python 3 (ipykernel)",
   "language": "python",
   "name": "python3"
  },
  "language_info": {
   "codemirror_mode": {
    "name": "ipython",
    "version": 3
   },
   "file_extension": ".py",
   "mimetype": "text/x-python",
   "name": "python",
   "nbconvert_exporter": "python",
   "pygments_lexer": "ipython3",
   "version": "3.9.7"
  }
 },
 "nbformat": 4,
 "nbformat_minor": 2
}
